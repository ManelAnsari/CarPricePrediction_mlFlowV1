{
 "cells": [
  {
   "cell_type": "markdown",
   "id": "2884c455",
   "metadata": {},
   "source": [
    "<h1 style=\"text-align:center;\">Etape 4: Déploiement </h1>"
   ]
  },
  {
   "cell_type": "markdown",
   "id": "2627b740",
   "metadata": {},
   "source": [
    "Dans cette étape, nous avons utilisé le modèle avec Postman pour effectuer des prédictions en temps réel à partir d'une API. Postman est un outil puissant qui vous permet de tester et d'interagir avec des API"
   ]
  },
  {
   "cell_type": "code",
   "execution_count": 1,
   "id": "8a663961",
   "metadata": {},
   "outputs": [],
   "source": [
    "from operator import index\n",
    "import pandas as pd\n",
    "import numpy as np\n",
    "import matplotlib.pyplot as plt\n",
    "from datetime import datetime\n",
    "import pickle\n",
    "import sklearn\n",
    "from fastapi import FastAPI, File, UploadFile,Request\n",
    "import uvicorn\n",
    "import sys  \n",
    "from fastapi.middleware.cors import CORSMiddleware\n",
    "from pydantic import BaseModel\n",
    "import mlflow\n",
    "import os\n",
    "import asyncio\n",
    "import uvicorn"
   ]
  },
  {
   "cell_type": "markdown",
   "id": "35acc65e",
   "metadata": {},
   "source": [
    "# 1. Configuration de daghubs"
   ]
  },
  {
   "cell_type": "code",
   "execution_count": 2,
   "id": "7ad843c2",
   "metadata": {},
   "outputs": [],
   "source": [
    "os.environ['MLFLOW_TRACKING_USERNAME']= \"rihemmanel54\"\n",
    "os.environ[\"MLFLOW_TRACKING_PASSWORD\"] = \"3e93c19c879ea3562d4638daa2bab19d3eabb3c9\"\n",
    "\n",
    "#setup mlflow\n",
    "mlflow.set_tracking_uri('https://dagshub.com/rihemmanel54/CarPricePrediction_mlFlow.mlflow')"
   ]
  },
  {
   "cell_type": "code",
   "execution_count": 3,
   "id": "bd4fba61",
   "metadata": {},
   "outputs": [],
   "source": [
    "app = FastAPI()\n",
    "origins = ['*']\n",
    "\n",
    "app.add_middleware(\n",
    "    CORSMiddleware,\n",
    "    allow_origins=origins,\n",
    "    allow_credentials=True,\n",
    "    allow_methods=[\"*\"],\n",
    "    allow_headers=[\"*\"],\n",
    ")\n"
   ]
  },
  {
   "cell_type": "code",
   "execution_count": 4,
   "id": "b39a6f18",
   "metadata": {},
   "outputs": [
    {
     "data": {
      "application/vnd.jupyter.widget-view+json": {
       "model_id": "91bd6e77f96c496999fd3910022ef650",
       "version_major": 2,
       "version_minor": 0
      },
      "text/plain": [
       "Downloading artifacts:   0%|          | 0/5 [00:00<?, ?it/s]"
      ]
     },
     "metadata": {},
     "output_type": "display_data"
    }
   ],
   "source": [
    "#let's call the model from the model registry ( in production stage)\n",
    "\n",
    "df_mlflow = mlflow.search_runs(filter_string=\"metrics.Accuracy<1\")\n",
    "run_id = df_mlflow.loc[df_mlflow['metrics.Accuracy'].idxmax()]['run_id']\n",
    "\n",
    "logged_model = f'runs:/{run_id}/ML_models'\n",
    "\n",
    "model = mlflow.pyfunc.load_model(logged_model)"
   ]
  },
  {
   "cell_type": "markdown",
   "id": "230e3827",
   "metadata": {},
   "source": [
    "# 2. Launch FastApi"
   ]
  },
  {
   "cell_type": "code",
   "execution_count": 5,
   "id": "9f2b3cb2",
   "metadata": {},
   "outputs": [],
   "source": [
    "from pydantic import BaseModel, validator\n",
    "class Item(BaseModel):\n",
    "    transmission: int\n",
    "    fuel: int\n",
    "    owner: int\n",
    "    year:int\n",
    "    km_driven:int\n",
    "    engine:int\n",
    "    max_power:int"
   ]
  },
  {
   "cell_type": "code",
   "execution_count": 6,
   "id": "d5683d85",
   "metadata": {},
   "outputs": [
    {
     "name": "stderr",
     "output_type": "stream",
     "text": [
      "INFO:     Started server process [13676]\n",
      "INFO:     Waiting for application startup.\n",
      "INFO:     Application startup complete.\n",
      "INFO:     Uvicorn running on http://127.0.0.1:8000 (Press CTRL+C to quit)\n"
     ]
    },
    {
     "name": "stdout",
     "output_type": "stream",
     "text": [
      "[627877.7814973]\n",
      "INFO:     127.0.0.1:58335 - \"POST /predict HTTP/1.1\" 200 OK\n",
      "[1044183.50430492]\n",
      "INFO:     127.0.0.1:58364 - \"POST /predict HTTP/1.1\" 200 OK\n",
      "INFO:     127.0.0.1:58836 - \"POST //predict?transmission=2&fuel=1&owner=2&year=0&km_driven=0.0&engine=0.0&max_power=0.0 HTTP/1.1\" 404 Not Found\n",
      "INFO:     127.0.0.1:58955 - \"POST //predict HTTP/1.1\" 404 Not Found\n",
      "INFO:     127.0.0.1:59120 - \"POST //predict HTTP/1.1\" 404 Not Found\n",
      "INFO:     127.0.0.1:59154 - \"POST //predict HTTP/1.1\" 404 Not Found\n",
      "INFO:     127.0.0.1:65194 - \"POST //predict?transmission=2&fuel=1&owner=2&year=0&km_driven=0.0&engine=0.0&max_power=0.0 HTTP/1.1\" 404 Not Found\n",
      "INFO:     127.0.0.1:65229 - \"POST //predict?transmission=2&fuel=1&owner=2&year=2023&km_driven=77.0&engine=50.0&max_power=400.0 HTTP/1.1\" 404 Not Found\n",
      "INFO:     127.0.0.1:65315 - \"POST //predict?transmission=2&fuel=1&owner=2&year=2023&km_driven=77.0&engine=50.0&max_power=400.0 HTTP/1.1\" 404 Not Found\n",
      "INFO:     127.0.0.1:65410 - \"POST / HTTP/1.1\" 405 Method Not Allowed\n",
      "INFO:     127.0.0.1:65458 - \"POST / HTTP/1.1\" 405 Method Not Allowed\n",
      "INFO:     127.0.0.1:65499 - \"POST //predict HTTP/1.1\" 404 Not Found\n",
      "[767396.62878653]\n",
      "INFO:     127.0.0.1:65507 - \"POST /predict HTTP/1.1\" 200 OK\n",
      "[767396.62878653]\n",
      "INFO:     127.0.0.1:65519 - \"POST /predict HTTP/1.1\" 200 OK\n",
      "[767396.62878653]\n",
      "INFO:     127.0.0.1:49322 - \"POST /predict HTTP/1.1\" 200 OK\n",
      "[950018.80544292]\n",
      "INFO:     127.0.0.1:51422 - \"POST /predict HTTP/1.1\" 200 OK\n",
      "[950018.80544292]\n",
      "INFO:     127.0.0.1:62798 - \"POST /predict HTTP/1.1\" 200 OK\n",
      "[1035251.64418906]\n",
      "INFO:     127.0.0.1:63445 - \"POST /predict HTTP/1.1\" 200 OK\n"
     ]
    },
    {
     "name": "stderr",
     "output_type": "stream",
     "text": [
      "INFO:     Shutting down\n",
      "INFO:     Waiting for application shutdown.\n",
      "INFO:     Application shutdown complete.\n",
      "INFO:     Finished server process [13676]\n"
     ]
    }
   ],
   "source": [
    "from pydantic import BaseModel, validator\n",
    "import numpy\n",
    "\n",
    "@app.get(\"/\")\n",
    "def read_root():\n",
    "    return {\"Hello\": \"to Car price prediction app\"}\n",
    "\n",
    "\n",
    "# this endpoint receives data in the form of json (informations about one transaction)\n",
    "@app.post(\"/predict\")\n",
    "def predict(item: Item):\n",
    "    print(item)\n",
    "    data = [item.transmission, item.fuel, item.owner, item.year, item.km_driven, item.engine, item.max_power]\n",
    "    data = np.array(data).reshape(1, -1)\n",
    "    predictions = model.predict(data.reshape(1, -1))\n",
    "    print(predictions)\n",
    "    return {\"Predict\":predictions[0]}\n",
    "\n",
    "\n",
    "if __name__ == \"__main__\":\n",
    "    config = uvicorn.Config(app)\n",
    "    server = uvicorn.Server(config)\n",
    "    await server.serve()"
   ]
  },
  {
   "cell_type": "code",
   "execution_count": null,
   "id": "b24aad57",
   "metadata": {},
   "outputs": [],
   "source": []
  },
  {
   "cell_type": "code",
   "execution_count": null,
   "id": "554c1383",
   "metadata": {},
   "outputs": [],
   "source": []
  }
 ],
 "metadata": {
  "kernelspec": {
   "display_name": "Python 3 (ipykernel)",
   "language": "python",
   "name": "python3"
  },
  "language_info": {
   "codemirror_mode": {
    "name": "ipython",
    "version": 3
   },
   "file_extension": ".py",
   "mimetype": "text/x-python",
   "name": "python",
   "nbconvert_exporter": "python",
   "pygments_lexer": "ipython3",
   "version": "3.10.9"
  }
 },
 "nbformat": 4,
 "nbformat_minor": 5
}
