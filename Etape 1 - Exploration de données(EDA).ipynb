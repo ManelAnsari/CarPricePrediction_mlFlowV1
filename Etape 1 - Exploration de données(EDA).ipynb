{
 "cells": [
  {
   "cell_type": "markdown",
   "id": "314092a4",
   "metadata": {},
   "source": [
    "<h1 style=\"text-align:center;\">Etape 1: Exploration de données(EDA) </h1>"
   ]
  },
  {
   "cell_type": "markdown",
   "id": "a7dfd3e4",
   "metadata": {},
   "source": [
    "L'Exploration de Données (EDA), également connue sous le nom de Data Exploration en anglais, est une phase cruciale dans le processus d'analyse de données. Elle consiste à examiner, résumer et visualiser les données pour mieux comprendre leur nature, leur structure, leurs modèles et leurs caractéristiques.\n",
    "\n",
    "L'EDA est généralement la première étape entreprise par les analystes de données et les scientifiques des données avant de construire des modèles d'apprentissage automatique ou de prendre des décisions basées sur les données.\n",
    "\n",
    "# Data Description  \n",
    "\n",
    "Ce projet a pour objectif de mettre en place un système de prédiction des prix de voitures d'occasion en utilisant des critères spécifiques tels que la marque, la transmission, le type de carburant, le nombre d'anciens propriétaires, l'année de fabrication, et bien d'autres. Pour ce faire, nous utilisons des techniques de Machine Learning.\n",
    "\n",
    "Notre approche consiste à développer un algorithme de Machine Learning capable de prendre en compte ces critères pour estimer de manière précise le prix d'une voiture d'occasion. Cette solution permettra aux utilisateurs d'obtenir une estimation fiable du prix d'une voiture d'occasion en se basant sur des informations clés, facilitant ainsi le processus d'achat ou de vente de véhicules d'occasion.\n",
    "\n",
    "Le Machine Learning joue un rôle central dans ce projet en nous permettant d'exploiter les données existantes pour créer un modèle prédictif robuste. Grâce à l'analyse des données et à l'entraînement du modèle, nous pourrons fournir des prédictions de prix précises et personnalisées en fonction des caractéristiques spécifiques de chaque véhicule.\n",
    "\n",
    "voici la signification des noms des colonnes :\n",
    "\n",
    "    * feature name: Le nom de chaque colonne ou caractéristique dans l'ensemble de données.\n",
    "\n",
    "    * year: L'année de fabrication ou de mise en circulation du véhicule.\n",
    "\n",
    "    * selling_price: Le prix de vente du véhicule.\n",
    "\n",
    "    * km_driven: Le nombre de kilomètres parcourus par le véhicule.\n",
    "\n",
    "    * fuel: Le type de carburant utilisé par le véhicule (par exemple, essence, diesel, électrique, etc.).\n",
    "\n",
    "    *  seller_type: Le type de vendeur (par exemple, vendeur individuel, concessionnaire, etc.).\n",
    "\n",
    "    * transmission: Le type de transmission du véhicule (par exemple, manuelle, automatique).\n",
    "\n",
    "    * owner: Le nombre de propriétaires précédents du véhicule.\n",
    "\n",
    "    * mileage: La consommation de carburant du véhicule en termes de kilomètres par litre.\n",
    "\n",
    "    * engine: La cylindrée du moteur du véhicule.\n",
    "\n",
    "    * max_power: La puissance maximale du moteur du véhicule.\n",
    "\n",
    "    * torque: Le couple du moteur du véhicule.\n",
    "\n",
    "    * seats: Le nombre de places (sièges) dans le véhicule.\n",
    "    \n",
    "Les données originales proviennent de Vehicle dataset sur Kaggle URL: https://www.kaggle.com/datasets/nehalbirla/vehicle-dataset-from-cardekho?fbclid=IwAR1mCHhtXoBV8PZESSd6621bkUp7hTrrvmTid6VzgcAuTZJqtgw-zECtAXw\n"
   ]
  },
  {
   "cell_type": "markdown",
   "id": "c574fbe7",
   "metadata": {},
   "source": [
    "# 1. Importation des packages"
   ]
  },
  {
   "cell_type": "code",
   "execution_count": 1,
   "id": "d0a7780b",
   "metadata": {},
   "outputs": [],
   "source": [
    "import pandas as pd  # Importe la bibliothèque pandas pour la manipulation de données sous forme de dataframes.\n",
    "import numpy as np   # Importe la bibliothèque numpy pour la manipulation de tableaux (arrays).\n",
    "\n",
    "import matplotlib.pyplot as plt  # Importe la bibliothèque matplotlib pour la visualisation de données.\n",
    "import seaborn as sns  # Importe la bibliothèque seaborn pour la visualisation de données basée sur matplotlib."
   ]
  },
  {
   "cell_type": "markdown",
   "id": "044f9c50",
   "metadata": {},
   "source": [
    "# 2. charger des données"
   ]
  },
  {
   "cell_type": "code",
   "execution_count": 2,
   "id": "086810af",
   "metadata": {},
   "outputs": [],
   "source": [
    "data=pd.read_csv('Car.csv') # lire"
   ]
  },
  {
   "cell_type": "markdown",
   "id": "2bb7cf91",
   "metadata": {},
   "source": [
    "# 3. Visualisation de données"
   ]
  },
  {
   "cell_type": "code",
   "execution_count": 3,
   "id": "b1de7542",
   "metadata": {},
   "outputs": [
    {
     "data": {
      "text/html": [
       "<div>\n",
       "<style scoped>\n",
       "    .dataframe tbody tr th:only-of-type {\n",
       "        vertical-align: middle;\n",
       "    }\n",
       "\n",
       "    .dataframe tbody tr th {\n",
       "        vertical-align: top;\n",
       "    }\n",
       "\n",
       "    .dataframe thead th {\n",
       "        text-align: right;\n",
       "    }\n",
       "</style>\n",
       "<table border=\"1\" class=\"dataframe\">\n",
       "  <thead>\n",
       "    <tr style=\"text-align: right;\">\n",
       "      <th></th>\n",
       "      <th>name</th>\n",
       "      <th>year</th>\n",
       "      <th>selling_price</th>\n",
       "      <th>km_driven</th>\n",
       "      <th>fuel</th>\n",
       "      <th>seller_type</th>\n",
       "      <th>transmission</th>\n",
       "      <th>owner</th>\n",
       "      <th>mileage</th>\n",
       "      <th>engine</th>\n",
       "      <th>max_power</th>\n",
       "      <th>torque</th>\n",
       "      <th>seats</th>\n",
       "    </tr>\n",
       "  </thead>\n",
       "  <tbody>\n",
       "    <tr>\n",
       "      <th>0</th>\n",
       "      <td>Maruti Swift Dzire VDI</td>\n",
       "      <td>2014.0</td>\n",
       "      <td>450000.0</td>\n",
       "      <td>145500.0</td>\n",
       "      <td>Diesel</td>\n",
       "      <td>Individual</td>\n",
       "      <td>Manual</td>\n",
       "      <td>First Owner</td>\n",
       "      <td>23.4 kmpl</td>\n",
       "      <td>1248 CC</td>\n",
       "      <td>74 bhp</td>\n",
       "      <td>190Nm@ 2000rpm</td>\n",
       "      <td>5.0</td>\n",
       "    </tr>\n",
       "    <tr>\n",
       "      <th>1</th>\n",
       "      <td>Skoda Rapid 1.5 TDI Ambition</td>\n",
       "      <td>2014.0</td>\n",
       "      <td>370000.0</td>\n",
       "      <td>120000.0</td>\n",
       "      <td>Diesel</td>\n",
       "      <td>Individual</td>\n",
       "      <td>Manual</td>\n",
       "      <td>Second Owner</td>\n",
       "      <td>21.14 kmpl</td>\n",
       "      <td>1498 CC</td>\n",
       "      <td>103.52 bhp</td>\n",
       "      <td>250Nm@ 1500-2500rpm</td>\n",
       "      <td>5.0</td>\n",
       "    </tr>\n",
       "    <tr>\n",
       "      <th>2</th>\n",
       "      <td>Honda City 2017-2020 EXi,2006,158000,140000,Pe...</td>\n",
       "      <td>NaN</td>\n",
       "      <td>NaN</td>\n",
       "      <td>NaN</td>\n",
       "      <td>NaN</td>\n",
       "      <td>NaN</td>\n",
       "      <td>NaN</td>\n",
       "      <td>NaN</td>\n",
       "      <td>NaN</td>\n",
       "      <td>NaN</td>\n",
       "      <td>NaN</td>\n",
       "      <td>NaN</td>\n",
       "      <td>NaN</td>\n",
       "    </tr>\n",
       "    <tr>\n",
       "      <th>3</th>\n",
       "      <td>Hyundai i20 Sportz Diesel</td>\n",
       "      <td>2010.0</td>\n",
       "      <td>225000.0</td>\n",
       "      <td>127000.0</td>\n",
       "      <td>Diesel</td>\n",
       "      <td>Individual</td>\n",
       "      <td>Manual</td>\n",
       "      <td>First Owner</td>\n",
       "      <td>23.0 kmpl</td>\n",
       "      <td>1396 CC</td>\n",
       "      <td>90 bhp</td>\n",
       "      <td>22.4 kgm at 1750-2750rpm</td>\n",
       "      <td>5.0</td>\n",
       "    </tr>\n",
       "    <tr>\n",
       "      <th>4</th>\n",
       "      <td>Maruti Swift VXI BSIII,2007,130000,120000,Petr...</td>\n",
       "      <td>NaN</td>\n",
       "      <td>NaN</td>\n",
       "      <td>NaN</td>\n",
       "      <td>NaN</td>\n",
       "      <td>NaN</td>\n",
       "      <td>NaN</td>\n",
       "      <td>NaN</td>\n",
       "      <td>NaN</td>\n",
       "      <td>NaN</td>\n",
       "      <td>NaN</td>\n",
       "      <td>NaN</td>\n",
       "      <td>NaN</td>\n",
       "    </tr>\n",
       "  </tbody>\n",
       "</table>\n",
       "</div>"
      ],
      "text/plain": [
       "                                                name    year  selling_price  \\\n",
       "0                             Maruti Swift Dzire VDI  2014.0       450000.0   \n",
       "1                       Skoda Rapid 1.5 TDI Ambition  2014.0       370000.0   \n",
       "2  Honda City 2017-2020 EXi,2006,158000,140000,Pe...     NaN            NaN   \n",
       "3                          Hyundai i20 Sportz Diesel  2010.0       225000.0   \n",
       "4  Maruti Swift VXI BSIII,2007,130000,120000,Petr...     NaN            NaN   \n",
       "\n",
       "   km_driven    fuel seller_type transmission         owner     mileage  \\\n",
       "0   145500.0  Diesel  Individual       Manual   First Owner   23.4 kmpl   \n",
       "1   120000.0  Diesel  Individual       Manual  Second Owner  21.14 kmpl   \n",
       "2        NaN     NaN         NaN          NaN           NaN         NaN   \n",
       "3   127000.0  Diesel  Individual       Manual   First Owner   23.0 kmpl   \n",
       "4        NaN     NaN         NaN          NaN           NaN         NaN   \n",
       "\n",
       "    engine   max_power                    torque  seats  \n",
       "0  1248 CC      74 bhp            190Nm@ 2000rpm    5.0  \n",
       "1  1498 CC  103.52 bhp       250Nm@ 1500-2500rpm    5.0  \n",
       "2      NaN         NaN                       NaN    NaN  \n",
       "3  1396 CC      90 bhp  22.4 kgm at 1750-2750rpm    5.0  \n",
       "4      NaN         NaN                       NaN    NaN  "
      ]
     },
     "execution_count": 3,
     "metadata": {},
     "output_type": "execute_result"
    }
   ],
   "source": [
    "data.head() #Affichage des premières lignes des données"
   ]
  },
  {
   "cell_type": "code",
   "execution_count": 4,
   "id": "985a9418",
   "metadata": {},
   "outputs": [
    {
     "name": "stdout",
     "output_type": "stream",
     "text": [
      "(8128, 13)\n"
     ]
    }
   ],
   "source": [
    "# Utilisation de la méthode .shape pour obtenir les dimensions du dataframe Dimensions des données (nombre de lignes et de colonnes\n",
    "dimensions = data.shape\n",
    "\n",
    "# Affichage des dimensions\n",
    "print(dimensions)\n"
   ]
  },
  {
   "cell_type": "code",
   "execution_count": 5,
   "id": "5d1c5dea",
   "metadata": {},
   "outputs": [
    {
     "name": "stdout",
     "output_type": "stream",
     "text": [
      "<class 'pandas.core.frame.DataFrame'>\n",
      "RangeIndex: 8128 entries, 0 to 8127\n",
      "Data columns (total 13 columns):\n",
      " #   Column         Non-Null Count  Dtype  \n",
      "---  ------         --------------  -----  \n",
      " 0   name           8128 non-null   object \n",
      " 1   year           7787 non-null   float64\n",
      " 2   selling_price  7787 non-null   float64\n",
      " 3   km_driven      7787 non-null   float64\n",
      " 4   fuel           7787 non-null   object \n",
      " 5   seller_type    7787 non-null   object \n",
      " 6   transmission   7787 non-null   object \n",
      " 7   owner          7787 non-null   object \n",
      " 8   mileage        7566 non-null   object \n",
      " 9   engine         7566 non-null   object \n",
      " 10  max_power      7572 non-null   object \n",
      " 11  torque         7565 non-null   object \n",
      " 12  seats          7566 non-null   float64\n",
      "dtypes: float64(4), object(9)\n",
      "memory usage: 825.6+ KB\n"
     ]
    }
   ],
   "source": [
    "data.info() #Informations sur les données :"
   ]
  },
  {
   "cell_type": "code",
   "execution_count": 6,
   "id": "d2290dcb",
   "metadata": {},
   "outputs": [
    {
     "data": {
      "text/html": [
       "<div>\n",
       "<style scoped>\n",
       "    .dataframe tbody tr th:only-of-type {\n",
       "        vertical-align: middle;\n",
       "    }\n",
       "\n",
       "    .dataframe tbody tr th {\n",
       "        vertical-align: top;\n",
       "    }\n",
       "\n",
       "    .dataframe thead th {\n",
       "        text-align: right;\n",
       "    }\n",
       "</style>\n",
       "<table border=\"1\" class=\"dataframe\">\n",
       "  <thead>\n",
       "    <tr style=\"text-align: right;\">\n",
       "      <th></th>\n",
       "      <th>year</th>\n",
       "      <th>selling_price</th>\n",
       "      <th>km_driven</th>\n",
       "      <th>seats</th>\n",
       "    </tr>\n",
       "  </thead>\n",
       "  <tbody>\n",
       "    <tr>\n",
       "      <th>count</th>\n",
       "      <td>7787.000000</td>\n",
       "      <td>7.787000e+03</td>\n",
       "      <td>7.787000e+03</td>\n",
       "      <td>7566.000000</td>\n",
       "    </tr>\n",
       "    <tr>\n",
       "      <th>mean</th>\n",
       "      <td>2014.054193</td>\n",
       "      <td>6.566975e+05</td>\n",
       "      <td>6.840663e+04</td>\n",
       "      <td>5.422284</td>\n",
       "    </tr>\n",
       "    <tr>\n",
       "      <th>std</th>\n",
       "      <td>3.911379</td>\n",
       "      <td>8.174188e+05</td>\n",
       "      <td>5.663441e+04</td>\n",
       "      <td>0.955162</td>\n",
       "    </tr>\n",
       "    <tr>\n",
       "      <th>min</th>\n",
       "      <td>1983.000000</td>\n",
       "      <td>2.999900e+04</td>\n",
       "      <td>1.000000e+00</td>\n",
       "      <td>2.000000</td>\n",
       "    </tr>\n",
       "    <tr>\n",
       "      <th>25%</th>\n",
       "      <td>2012.000000</td>\n",
       "      <td>2.750000e+05</td>\n",
       "      <td>3.300150e+04</td>\n",
       "      <td>5.000000</td>\n",
       "    </tr>\n",
       "    <tr>\n",
       "      <th>50%</th>\n",
       "      <td>2015.000000</td>\n",
       "      <td>4.599990e+05</td>\n",
       "      <td>6.000000e+04</td>\n",
       "      <td>5.000000</td>\n",
       "    </tr>\n",
       "    <tr>\n",
       "      <th>75%</th>\n",
       "      <td>2017.000000</td>\n",
       "      <td>6.965000e+05</td>\n",
       "      <td>9.000000e+04</td>\n",
       "      <td>5.000000</td>\n",
       "    </tr>\n",
       "    <tr>\n",
       "      <th>max</th>\n",
       "      <td>2020.000000</td>\n",
       "      <td>1.000000e+07</td>\n",
       "      <td>2.360457e+06</td>\n",
       "      <td>14.000000</td>\n",
       "    </tr>\n",
       "  </tbody>\n",
       "</table>\n",
       "</div>"
      ],
      "text/plain": [
       "              year  selling_price     km_driven        seats\n",
       "count  7787.000000   7.787000e+03  7.787000e+03  7566.000000\n",
       "mean   2014.054193   6.566975e+05  6.840663e+04     5.422284\n",
       "std       3.911379   8.174188e+05  5.663441e+04     0.955162\n",
       "min    1983.000000   2.999900e+04  1.000000e+00     2.000000\n",
       "25%    2012.000000   2.750000e+05  3.300150e+04     5.000000\n",
       "50%    2015.000000   4.599990e+05  6.000000e+04     5.000000\n",
       "75%    2017.000000   6.965000e+05  9.000000e+04     5.000000\n",
       "max    2020.000000   1.000000e+07  2.360457e+06    14.000000"
      ]
     },
     "execution_count": 6,
     "metadata": {},
     "output_type": "execute_result"
    }
   ],
   "source": [
    "data.describe()"
   ]
  },
  {
   "cell_type": "code",
   "execution_count": 7,
   "id": "59ac7675",
   "metadata": {},
   "outputs": [
    {
     "data": {
      "text/html": [
       "<div>\n",
       "<style scoped>\n",
       "    .dataframe tbody tr th:only-of-type {\n",
       "        vertical-align: middle;\n",
       "    }\n",
       "\n",
       "    .dataframe tbody tr th {\n",
       "        vertical-align: top;\n",
       "    }\n",
       "\n",
       "    .dataframe thead th {\n",
       "        text-align: right;\n",
       "    }\n",
       "</style>\n",
       "<table border=\"1\" class=\"dataframe\">\n",
       "  <thead>\n",
       "    <tr style=\"text-align: right;\">\n",
       "      <th></th>\n",
       "      <th>name</th>\n",
       "      <th>fuel</th>\n",
       "      <th>seller_type</th>\n",
       "      <th>transmission</th>\n",
       "      <th>owner</th>\n",
       "      <th>mileage</th>\n",
       "      <th>engine</th>\n",
       "      <th>max_power</th>\n",
       "      <th>torque</th>\n",
       "    </tr>\n",
       "  </thead>\n",
       "  <tbody>\n",
       "    <tr>\n",
       "      <th>count</th>\n",
       "      <td>8128</td>\n",
       "      <td>7787</td>\n",
       "      <td>7787</td>\n",
       "      <td>7787</td>\n",
       "      <td>7787</td>\n",
       "      <td>7566</td>\n",
       "      <td>7566</td>\n",
       "      <td>7572</td>\n",
       "      <td>7565</td>\n",
       "    </tr>\n",
       "    <tr>\n",
       "      <th>unique</th>\n",
       "      <td>2236</td>\n",
       "      <td>4</td>\n",
       "      <td>3</td>\n",
       "      <td>2</td>\n",
       "      <td>5</td>\n",
       "      <td>381</td>\n",
       "      <td>117</td>\n",
       "      <td>305</td>\n",
       "      <td>376</td>\n",
       "    </tr>\n",
       "    <tr>\n",
       "      <th>top</th>\n",
       "      <td>Maruti Swift Dzire VDI</td>\n",
       "      <td>Diesel</td>\n",
       "      <td>Individual</td>\n",
       "      <td>Manual</td>\n",
       "      <td>First Owner</td>\n",
       "      <td>18.9 kmpl</td>\n",
       "      <td>1248 CC</td>\n",
       "      <td>74 bhp</td>\n",
       "      <td>190Nm@ 2000rpm</td>\n",
       "    </tr>\n",
       "    <tr>\n",
       "      <th>freq</th>\n",
       "      <td>129</td>\n",
       "      <td>4245</td>\n",
       "      <td>6437</td>\n",
       "      <td>6750</td>\n",
       "      <td>5199</td>\n",
       "      <td>225</td>\n",
       "      <td>1017</td>\n",
       "      <td>377</td>\n",
       "      <td>530</td>\n",
       "    </tr>\n",
       "  </tbody>\n",
       "</table>\n",
       "</div>"
      ],
      "text/plain": [
       "                          name    fuel seller_type transmission        owner  \\\n",
       "count                     8128    7787        7787         7787         7787   \n",
       "unique                    2236       4           3            2            5   \n",
       "top     Maruti Swift Dzire VDI  Diesel  Individual       Manual  First Owner   \n",
       "freq                       129    4245        6437         6750         5199   \n",
       "\n",
       "          mileage   engine max_power          torque  \n",
       "count        7566     7566      7572            7565  \n",
       "unique        381      117       305             376  \n",
       "top     18.9 kmpl  1248 CC    74 bhp  190Nm@ 2000rpm  \n",
       "freq          225     1017       377             530  "
      ]
     },
     "execution_count": 7,
     "metadata": {},
     "output_type": "execute_result"
    }
   ],
   "source": [
    "data.describe(include=object)\n",
    "#obtenir des statistiques descriptives spécifiques aux colonnes de type objet (chaînes de caractères)"
   ]
  },
  {
   "cell_type": "code",
   "execution_count": 8,
   "id": "3caaa9ad",
   "metadata": {},
   "outputs": [
    {
     "data": {
      "text/plain": [
       "Individual          6437\n",
       "Dealer              1114\n",
       "Trustmark Dealer     236\n",
       "Name: seller_type, dtype: int64"
      ]
     },
     "execution_count": 8,
     "metadata": {},
     "output_type": "execute_result"
    }
   ],
   "source": [
    "data['seller_type'].value_counts()\n",
    " # Comptage des valeurs"
   ]
  },
  {
   "cell_type": "code",
   "execution_count": 9,
   "id": "7d5eca9f",
   "metadata": {},
   "outputs": [
    {
     "data": {
      "text/plain": [
       "name               0\n",
       "year             341\n",
       "selling_price    341\n",
       "km_driven        341\n",
       "fuel             341\n",
       "seller_type      341\n",
       "transmission     341\n",
       "owner            341\n",
       "mileage          562\n",
       "engine           562\n",
       "max_power        556\n",
       "torque           563\n",
       "seats            562\n",
       "dtype: int64"
      ]
     },
     "execution_count": 9,
     "metadata": {},
     "output_type": "execute_result"
    }
   ],
   "source": [
    "data.isna().sum()"
   ]
  },
  {
   "cell_type": "code",
   "execution_count": 10,
   "id": "d3b7691d",
   "metadata": {},
   "outputs": [
    {
     "data": {
      "text/plain": [
       "<Axes: >"
      ]
     },
     "execution_count": 10,
     "metadata": {},
     "output_type": "execute_result"
    },
    {
     "data": {
      "image/png": "[encoded data removed]",
      "text/plain": [
       "<Figure size 640x480 with 1 Axes>"
      ]
     },
     "metadata": {},
     "output_type": "display_data"
    }
   ],
   "source": [
    "data.boxplot()"
   ]
  },
  {
   "cell_type": "markdown",
   "id": "0f894212",
   "metadata": {},
   "source": [
    "### Matrice de coleration\n",
    "\n",
    "La matrice de corrélation indique les valeurs de corrélation, qui mesurent le degré de relation linéaire entre chaque paire de variables."
   ]
  },
  {
   "cell_type": "code",
   "execution_count": 11,
   "id": "6ebb8cb7",
   "metadata": {},
   "outputs": [
    {
     "data": {
      "text/plain": [
       "<Axes: >"
      ]
     },
     "execution_count": 11,
     "metadata": {},
     "output_type": "execute_result"
    }
   ],
   "source": [
    "import seaborn as sns\n",
    "\n",
    "numeric_data = data.select_dtypes(include=['number'])\n",
    "# matrice de correlation\n",
    "correlation_matrix = numeric_data.corr()\n",
    "#Diagramme de corrélation\n",
    "sns.heatmap(correlation_matrix, annot=True, cmap='coolwarm')"
   ]
  },
  {
   "cell_type": "code",
   "execution_count": 12,
   "id": "1186b934",
   "metadata": {},
   "outputs": [
    {
     "data": {
      "image/png": "[encoded data removed]",
      "text/plain": [
       "<Figure size 640x480 with 2 Axes>"
      ]
     },
     "metadata": {},
     "output_type": "display_data"
    },
    {
     "data": {
      "image/png": "[encoded data removed]",
      "text/plain": [
       "<Figure size 1200x600 with 1 Axes>"
      ]
     },
     "metadata": {},
     "output_type": "display_data"
    }
   ],
   "source": [
    "import matplotlib.pyplot as plt  # Importe la bibliothèque matplotlib pour la création de graphiques.\n",
    "import seaborn as sns            # Importe la bibliothèque seaborn pour une visualisation améliorée.\n",
    "\n",
    "def custom_bar_plot(data, col, figsize=(15, 7), rotation=0):\n",
    "\n",
    "    plt.figure(figsize=figsize)  # Crée une nouvelle figure avec la taille spécifiée.\n",
    "\n",
    "    # Crée un graphique à barres (countplot) en utilisant la colonne spécifiée et l'ordre des catégories.\n",
    "    plot = sns.countplot(x=col, data=data, order=data[col].value_counts().index)\n",
    "\n",
    "    plt.xticks(rotation=rotation)  # Fait pivoter les étiquettes sur l'axe des x (si rotation est non nul).\n",
    "\n",
    "    # Ajoute des étiquettes au-dessus de chaque barre pour afficher le nombre de chaque catégorie.\n",
    "    for p in plot.patches:\n",
    "        plot.annotate(f'{p.get_height()}',\n",
    "                      (p.get_x() + p.get_width() / 2.0, p.get_height()),\n",
    "                      ha='center', va='center', xytext=(0, 5), textcoords='offset points')\n",
    "\n",
    "    plt.xlabel(col)   # Définit le label de l'axe des x avec le nom de la colonne.\n",
    "    plt.ylabel('Count')  # Définit le label de l'axe des y comme \"Count\".\n",
    "    plt.title(f'Count of {col}')  # Définit le titre du graphique en fonction de la colonne spécifiée.\n",
    "    plt.show()  # Affiche le graphique.\n",
    "\n",
    "# Exemple d'utilisation\n",
    "custom_bar_plot(data, 'fuel', figsize=(12, 6), rotation=45)  # Appelle la fonction .\n"
   ]
  },
  {
   "cell_type": "code",
   "execution_count": 13,
   "id": "b4e9737a",
   "metadata": {},
   "outputs": [
    {
     "data": {
      "text/plain": [
       "<Axes: >"
      ]
     },
     "execution_count": 13,
     "metadata": {},
     "output_type": "execute_result"
    }
   ],
   "source": [
    "data['fuel'].hist()"
   ]
  },
  {
   "cell_type": "code",
   "execution_count": 14,
   "id": "399cab24",
   "metadata": {},
   "outputs": [
    {
     "data": {
      "text/html": [],
      "text/plain": [
       "<IPython.core.display.HTML object>"
      ]
     },
     "metadata": {},
     "output_type": "display_data"
    },
    {
     "data": {
      "application/vnd.jupyter.widget-view+json": {
       "model_id": "a2fa319f2b914c45b28cb3ddd7e1123c",
       "version_major": 2,
       "version_minor": 0
      },
      "text/plain": [
       "Box(children=(HTML(value='<div id=\"ifr-pyg-0\" style=\"height: auto\">\\n    <head>\\n        <meta http-equiv=\"Con…"
      ]
     },
     "metadata": {},
     "output_type": "display_data"
    },
    {
     "data": {
      "text/html": [
       "<html>\n",
       "<style>\n",
       ".tabs{\n",
       "    position:relative;\n",
       "    height:660px;\n",
       "}\n",
       ".tab-pane{\n",
       "    display:inline-block;\n",
       "}\n",
       ".tabs input[type='radio']{\n",
       "    position:absolute;\n",
       "    clip:rect(0,0,0,0)\n",
       "}\n",
       ".tab-item{\n",
       "    display:block;\n",
       "    height:34px;\n",
       "    line-height:34px;\n",
       "    cursor:pointer;\n",
       "    padding:0 10px\n",
       "}\n",
       "\n",
       ".tabs input[type='radio']:checked+.tab-item{\n",
       "    background:#2563eb;\n",
       "    color:#fff\n",
       "}\n",
       "\n",
       ".tab-content{\n",
       "    display: none;\n",
       "    position:absolute;\n",
       "    left:0;\n",
       "    top:56px;\n",
       "    bottom:0;\n",
       "    right:0;\n",
       "}\n",
       "\n",
       ".tabs input[type='radio']:checked+.tab-item+.tab-content{\n",
       "    display: block;\n",
       "}\n",
       "</style>\n",
       "\n",
       "<body>\n",
       "    <div id=\"pygwalker-preview-0\">\n",
       "        <div class=\"tabs\">\n",
       "            \n",
       "        </div>\n",
       "    </div>\n",
       "</body>\n",
       "</html>"
      ],
      "text/plain": [
       "<IPython.core.display.HTML object>"
      ]
     },
     "metadata": {},
     "output_type": "display_data"
    }
   ],
   "source": [
    "import pygwalker as pyg\n",
    "walker = pyg.walk(\n",
    "    data,\n",
    "    spec=\"./chart_meta_0.json\",    # this json file will save your chart state, you need to click save button in ui mannual when you finish a chart, 'autosave' will be supported in the future.\n",
    "    use_kernel_calc=True,          # set `use_kernel_calc=True`, pygwalker will use duckdb as computing engine, it support you explore bigger dataset(<=100GB).\n",
    ")"
   ]
  },
  {
   "cell_type": "markdown",
   "id": "18c1bd17",
   "metadata": {},
   "source": [
    "<h2 style=\"text-align:right;\">Passer à l'étape 2 ...</h2>"
   ]
  },
  {
   "cell_type": "code",
   "execution_count": null,
   "id": "fd19ca8d",
   "metadata": {},
   "outputs": [],
   "source": []
  }
 ],
 "metadata": {
  "kernelspec": {
   "display_name": "Python 3 (ipykernel)",
   "language": "python",
   "name": "python3"
  },
  "language_info": {
   "codemirror_mode": {
    "name": "ipython",
    "version": 3
   },
   "file_extension": ".py",
   "mimetype": "text/x-python",
   "name": "python",
   "nbconvert_exporter": "python",
   "pygments_lexer": "ipython3",
   "version": "3.10.9"
  }
 },
 "nbformat": 4,
 "nbformat_minor": 5
}
